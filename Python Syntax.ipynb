{
 "metadata": {
  "name": "",
  "signature": "sha256:d79e18f8d227038fda87122b414266c3906e6ce38e9477b791fd5a45daa93735"
 },
 "nbformat": 3,
 "nbformat_minor": 0,
 "worksheets": [
  {
   "cells": [
    {
     "cell_type": "markdown",
     "metadata": {},
     "source": [
      "**Quick, Non-Comprehensive Introduction to Python Syntax**\n",
      "\n",
      "Based on http://en.wikipedia.org/wiki/Python_syntax_and_semantics"
     ]
    },
    {
     "cell_type": "markdown",
     "metadata": {},
     "source": [
      "**Hello World**"
     ]
    },
    {
     "cell_type": "code",
     "collapsed": false,
     "input": [
      "print('Hello World')"
     ],
     "language": "python",
     "metadata": {},
     "outputs": [
      {
       "output_type": "stream",
       "stream": "stdout",
       "text": [
        "Hello World\n"
       ]
      }
     ],
     "prompt_number": 2
    },
    {
     "cell_type": "markdown",
     "metadata": {},
     "source": [
      "**Python Keywords**"
     ]
    },
    {
     "cell_type": "code",
     "collapsed": false,
     "input": [
      "from keyword import kwlist\n",
      "for keyword in kwlist:\n",
      "    print(keyword)"
     ],
     "language": "python",
     "metadata": {},
     "outputs": [
      {
       "output_type": "stream",
       "stream": "stdout",
       "text": [
        "False\n",
        "None\n",
        "True\n",
        "and\n",
        "as\n",
        "assert\n",
        "break\n",
        "class\n",
        "continue\n",
        "def\n",
        "del\n",
        "elif\n",
        "else\n",
        "except\n",
        "finally\n",
        "for\n",
        "from\n",
        "global\n",
        "if\n",
        "import\n",
        "in\n",
        "is\n",
        "lambda\n",
        "nonlocal\n",
        "not\n",
        "or\n",
        "pass\n",
        "raise\n",
        "return\n",
        "try\n",
        "while\n",
        "with\n",
        "yield\n"
       ]
      }
     ],
     "prompt_number": 4
    },
    {
     "cell_type": "markdown",
     "metadata": {},
     "source": [
      "**Python uses whitespace to delimit program blocks**"
     ]
    },
    {
     "cell_type": "code",
     "collapsed": false,
     "input": [
      "def isEven(number):\n",
      "    return number%2==0\n",
      "\n",
      "for x in range(1,5):\n",
      "    if isEven(x):\n",
      "        print(x,'is even')\n",
      "    else:\n",
      "        print(x,'is odd')\n",
      "    print('This will be printed every iteration')\n",
      "print('This will only be printed once')"
     ],
     "language": "python",
     "metadata": {},
     "outputs": [
      {
       "output_type": "stream",
       "stream": "stdout",
       "text": [
        "1 is odd\n",
        "This will be printed every iteration\n",
        "2 is even\n",
        "This will be printed every iteration\n",
        "3 is odd\n",
        "This will be printed every iteration\n",
        "4 is even\n",
        "This will be printed every iteration\n",
        "This will only be printed once\n"
       ]
      }
     ],
     "prompt_number": 13
    },
    {
     "cell_type": "markdown",
     "metadata": {},
     "source": [
      "**Data Structures**"
     ]
    },
    {
     "cell_type": "code",
     "collapsed": false,
     "input": [
      "def a_function(an_argument):\n",
      "  \n",
      "  #An inline comment\n",
      "    \n",
      "  a_string = 'String'\n",
      "  \n",
      "  a_raw_string = r'C:\\Foo\\Bar'\n",
      "    \n",
      "  an_integer = 2\n",
      "  a_float = 3.14\n",
      "\n",
      "  a_list = [1,2,3,'Four']\n",
      "\n",
      "  #Access the list\n",
      "  a_list[0] # == 1\n",
      "\n",
      "  a_dictionary = {'Key'       : 'Value',\n",
      "                  'Perth'     : 'Just Right',\n",
      "                  'Melbourne' : 'Bad Weather',\n",
      "                  'Sydney'    : 'Too Busy'}\n",
      "\n",
      "  #Access the Dictionary\n",
      "  a_dictionary['Perth'] # == 'Just Right'\n",
      "    \n",
      "  a_tuple = ('Perth', 'Melbourne', 'Sydney')\n",
      "\n",
      "  #Access a tuple\n",
      "\n",
      "  a_tuple[0] # == Perth\n",
      "    \n",
      "  a_set = {0, False, 'Perth'}"
     ],
     "language": "python",
     "metadata": {},
     "outputs": [],
     "prompt_number": 27
    },
    {
     "cell_type": "markdown",
     "metadata": {},
     "source": [
      "**Functional Programming**"
     ]
    },
    {
     "cell_type": "code",
     "collapsed": false,
     "input": [
      "#List comprehensions\n",
      "\n",
      "X = [x for x in range(0,10) if x > 5]\n",
      "\n",
      "#Anonymous functions\n",
      "\n",
      "double = lambda x: x + x"
     ],
     "language": "python",
     "metadata": {},
     "outputs": [],
     "prompt_number": 29
    }
   ],
   "metadata": {}
  }
 ]
}